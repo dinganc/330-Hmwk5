{
 "cells": [
  {
   "cell_type": "markdown",
   "metadata": {},
   "source": [
    "# SI 330: Homework 5: Intro to Pandas\n",
    "\n",
    "\n",
    "## Due: Friday, February 16, 2018,  11:59:00pm\n",
    "\n",
    "### Submission instructions</font>\n",
    "After completing this homework, you will turn in two files via Canvas ->  Assignments -> HW 5:\n",
    "Your Notebook, named si330-hw5-YOUR_UNIQUE_NAME.ipynb and\n",
    "the HTML file, named si330-hw5-YOUR_UNIQUE_NAME.html.\n",
    "\n",
    "### Name:  Dingan Chen\n",
    "### Uniqname: dinganc\n",
    "### People you worked with: I worked by myself\n",
    "\n",
    "\n",
    "## Learning Objectives\n",
    "After completing this Homework, you should know how to:\n",
    "* Get familiar with Pandas and work on a real dataset"
   ]
  },
  {
   "cell_type": "markdown",
   "metadata": {},
   "source": [
    "## Step 1. Load the data\n",
    "\n",
    "For this homework, we will use the data that was collected via [a survey about the attitudes towards mental health and frequency of mental health orders for workers in the tech industry](https://www.kaggle.com/osmi/mental-health-in-tech-2016/data). Here is the survey metadata:\n",
    "\n",
    "<b>Age</b> - Respondent age<br>\n",
    "<b>Gender</b> - Respondent gender<br>\n",
    "<b>Country</b> - Respondent country<br>\n",
    "<b>state</b> - If you live in the United States, which state or territory do you live in?<br>\n",
    "<b>self_employed</b> - Are you self-employed?<br>\n",
    "<b>family_history</b> - Do you have a family history of mental illness?<br>\n",
    "<b>treatment</b> - Have you sought treatment for a mental health condition?<br>\n",
    "<b>work_interfere</b> - you have a mental health condition, do you feel that it interferes with your work?<br>\n",
    "<b>no_employees</b> - many employees does your company or organization have?<br>\n",
    "<b>remote_work</b> - Do you work remotely (outside of an office) at least 50% of the time?<br>\n",
    "<b>tech_company</b> - Is your employer primarily a tech company/organization?<br>\n",
    "<b>benefits</b> - Does your employer provide mental health benefits?<br>\n",
    "<b>care_options</b> - Do you know the options for mental health care your employer provides?<br>\n",
    "<b>wellness_program</b> - Has your employer ever discussed mental health as part of an employee wellness program?<br>\n",
    "<b>seek_help</b> - Does your employer provide resources to learn more about mental health issues and how to seek help?<br>\n",
    "<b>anonymity</b> - Is your anonymity protected if you choose to take advantage of mental health or substance abuse treatment resources?<br>\n",
    "<b>leave</b> - How easy is it for you to take medical leave for a mental health condition?<br>\n",
    "<b>mental_health_consequence</b> - Do you think that discussing a mental health issue with your employer would have negative consequences?<br>\n",
    "<b>phys_health_consequence</b> - Do you think that discussing a physical health issue with your employer would have negative consequences?<br>\n",
    "<b>coworkers</b> - Would you be willing to discuss a mental health issue with your coworkers?<br>\n",
    "<b>supervisor</b> - Would you be willing to discuss a mental health issue with your direct supervisor(s)?<br>\n",
    "<b>mental_health_interview</b> - Would you bring up a mental health issue with a potential employer in an interview?<br>\n",
    "<b>phys_health_interview</b> - Would you bring up a physical health issue with a potential employer in an interview?<br>\n",
    "<b>mental_vs_physical</b> - Do you feel that your employer takes mental health as seriously as physical health?<br>\n",
    "<b>obs_consequence</b> - Have you heard of or observed negative consequences for coworkers with mental health conditions in your workplace?<br>\n",
    "<b>comments</b> - Any additional notes or comments\n",
    "\n"
   ]
  },
  {
   "cell_type": "markdown",
   "metadata": {},
   "source": [
    "### <font color=\"magenta\">Q1: Use Pandas to load the data from the file ```survey.csv```</font>\n",
    "Hint: use pd.read_csv()"
   ]
  },
  {
   "cell_type": "code",
   "execution_count": 14,
   "metadata": {
    "scrolled": true
   },
   "outputs": [
    {
     "data": {
      "text/html": [
       "<div>\n",
       "<style>\n",
       "    .dataframe thead tr:only-child th {\n",
       "        text-align: right;\n",
       "    }\n",
       "\n",
       "    .dataframe thead th {\n",
       "        text-align: left;\n",
       "    }\n",
       "\n",
       "    .dataframe tbody tr th {\n",
       "        vertical-align: top;\n",
       "    }\n",
       "</style>\n",
       "<table border=\"1\" class=\"dataframe\">\n",
       "  <thead>\n",
       "    <tr style=\"text-align: right;\">\n",
       "      <th></th>\n",
       "      <th>Timestamp</th>\n",
       "      <th>Age</th>\n",
       "      <th>Gender</th>\n",
       "      <th>Country</th>\n",
       "      <th>state</th>\n",
       "      <th>self_employed</th>\n",
       "      <th>family_history</th>\n",
       "      <th>treatment</th>\n",
       "      <th>work_interfere</th>\n",
       "      <th>no_employees</th>\n",
       "      <th>...</th>\n",
       "      <th>leave</th>\n",
       "      <th>mental_health_consequence</th>\n",
       "      <th>phys_health_consequence</th>\n",
       "      <th>coworkers</th>\n",
       "      <th>supervisor</th>\n",
       "      <th>mental_health_interview</th>\n",
       "      <th>phys_health_interview</th>\n",
       "      <th>mental_vs_physical</th>\n",
       "      <th>obs_consequence</th>\n",
       "      <th>comments</th>\n",
       "    </tr>\n",
       "  </thead>\n",
       "  <tbody>\n",
       "    <tr>\n",
       "      <th>0</th>\n",
       "      <td>2014-08-27 11:29:31</td>\n",
       "      <td>37</td>\n",
       "      <td>Female</td>\n",
       "      <td>United States</td>\n",
       "      <td>IL</td>\n",
       "      <td>NaN</td>\n",
       "      <td>No</td>\n",
       "      <td>Yes</td>\n",
       "      <td>Often</td>\n",
       "      <td>6-25</td>\n",
       "      <td>...</td>\n",
       "      <td>Somewhat easy</td>\n",
       "      <td>No</td>\n",
       "      <td>No</td>\n",
       "      <td>Some of them</td>\n",
       "      <td>Yes</td>\n",
       "      <td>No</td>\n",
       "      <td>Maybe</td>\n",
       "      <td>Yes</td>\n",
       "      <td>No</td>\n",
       "      <td>NaN</td>\n",
       "    </tr>\n",
       "    <tr>\n",
       "      <th>1</th>\n",
       "      <td>2014-08-27 11:29:37</td>\n",
       "      <td>44</td>\n",
       "      <td>M</td>\n",
       "      <td>United States</td>\n",
       "      <td>IN</td>\n",
       "      <td>NaN</td>\n",
       "      <td>No</td>\n",
       "      <td>No</td>\n",
       "      <td>Rarely</td>\n",
       "      <td>More than 1000</td>\n",
       "      <td>...</td>\n",
       "      <td>Don't know</td>\n",
       "      <td>Maybe</td>\n",
       "      <td>No</td>\n",
       "      <td>No</td>\n",
       "      <td>No</td>\n",
       "      <td>No</td>\n",
       "      <td>No</td>\n",
       "      <td>Don't know</td>\n",
       "      <td>No</td>\n",
       "      <td>NaN</td>\n",
       "    </tr>\n",
       "    <tr>\n",
       "      <th>2</th>\n",
       "      <td>2014-08-27 11:29:44</td>\n",
       "      <td>32</td>\n",
       "      <td>Male</td>\n",
       "      <td>Canada</td>\n",
       "      <td>NaN</td>\n",
       "      <td>NaN</td>\n",
       "      <td>No</td>\n",
       "      <td>No</td>\n",
       "      <td>Rarely</td>\n",
       "      <td>6-25</td>\n",
       "      <td>...</td>\n",
       "      <td>Somewhat difficult</td>\n",
       "      <td>No</td>\n",
       "      <td>No</td>\n",
       "      <td>Yes</td>\n",
       "      <td>Yes</td>\n",
       "      <td>Yes</td>\n",
       "      <td>Yes</td>\n",
       "      <td>No</td>\n",
       "      <td>No</td>\n",
       "      <td>NaN</td>\n",
       "    </tr>\n",
       "    <tr>\n",
       "      <th>3</th>\n",
       "      <td>2014-08-27 11:29:46</td>\n",
       "      <td>31</td>\n",
       "      <td>Male</td>\n",
       "      <td>United Kingdom</td>\n",
       "      <td>NaN</td>\n",
       "      <td>NaN</td>\n",
       "      <td>Yes</td>\n",
       "      <td>Yes</td>\n",
       "      <td>Often</td>\n",
       "      <td>26-100</td>\n",
       "      <td>...</td>\n",
       "      <td>Somewhat difficult</td>\n",
       "      <td>Yes</td>\n",
       "      <td>Yes</td>\n",
       "      <td>Some of them</td>\n",
       "      <td>No</td>\n",
       "      <td>Maybe</td>\n",
       "      <td>Maybe</td>\n",
       "      <td>No</td>\n",
       "      <td>Yes</td>\n",
       "      <td>NaN</td>\n",
       "    </tr>\n",
       "    <tr>\n",
       "      <th>4</th>\n",
       "      <td>2014-08-27 11:30:22</td>\n",
       "      <td>31</td>\n",
       "      <td>Male</td>\n",
       "      <td>United States</td>\n",
       "      <td>TX</td>\n",
       "      <td>NaN</td>\n",
       "      <td>No</td>\n",
       "      <td>No</td>\n",
       "      <td>Never</td>\n",
       "      <td>100-500</td>\n",
       "      <td>...</td>\n",
       "      <td>Don't know</td>\n",
       "      <td>No</td>\n",
       "      <td>No</td>\n",
       "      <td>Some of them</td>\n",
       "      <td>Yes</td>\n",
       "      <td>Yes</td>\n",
       "      <td>Yes</td>\n",
       "      <td>Don't know</td>\n",
       "      <td>No</td>\n",
       "      <td>NaN</td>\n",
       "    </tr>\n",
       "  </tbody>\n",
       "</table>\n",
       "<p>5 rows × 27 columns</p>\n",
       "</div>"
      ],
      "text/plain": [
       "             Timestamp  Age  Gender         Country state self_employed  \\\n",
       "0  2014-08-27 11:29:31   37  Female   United States    IL           NaN   \n",
       "1  2014-08-27 11:29:37   44       M   United States    IN           NaN   \n",
       "2  2014-08-27 11:29:44   32    Male          Canada   NaN           NaN   \n",
       "3  2014-08-27 11:29:46   31    Male  United Kingdom   NaN           NaN   \n",
       "4  2014-08-27 11:30:22   31    Male   United States    TX           NaN   \n",
       "\n",
       "  family_history treatment work_interfere    no_employees   ...     \\\n",
       "0             No       Yes          Often            6-25   ...      \n",
       "1             No        No         Rarely  More than 1000   ...      \n",
       "2             No        No         Rarely            6-25   ...      \n",
       "3            Yes       Yes          Often          26-100   ...      \n",
       "4             No        No          Never         100-500   ...      \n",
       "\n",
       "                leave mental_health_consequence phys_health_consequence  \\\n",
       "0       Somewhat easy                        No                      No   \n",
       "1          Don't know                     Maybe                      No   \n",
       "2  Somewhat difficult                        No                      No   \n",
       "3  Somewhat difficult                       Yes                     Yes   \n",
       "4          Don't know                        No                      No   \n",
       "\n",
       "      coworkers supervisor mental_health_interview phys_health_interview  \\\n",
       "0  Some of them        Yes                      No                 Maybe   \n",
       "1            No         No                      No                    No   \n",
       "2           Yes        Yes                     Yes                   Yes   \n",
       "3  Some of them         No                   Maybe                 Maybe   \n",
       "4  Some of them        Yes                     Yes                   Yes   \n",
       "\n",
       "  mental_vs_physical obs_consequence comments  \n",
       "0                Yes              No      NaN  \n",
       "1         Don't know              No      NaN  \n",
       "2                 No              No      NaN  \n",
       "3                 No             Yes      NaN  \n",
       "4         Don't know              No      NaN  \n",
       "\n",
       "[5 rows x 27 columns]"
      ]
     },
     "execution_count": 14,
     "metadata": {},
     "output_type": "execute_result"
    }
   ],
   "source": [
    "import pandas as pd\n",
    "import numpy as np\n",
    "\n",
    "# Solution block\n",
    "df = pd.read_csv(\"survey.csv\")\n",
    "df.head()"
   ]
  },
  {
   "cell_type": "markdown",
   "metadata": {},
   "source": [
    "## Step 2: Data cleaning\n",
    "\n",
    "### Step 2.1 Filter out the Age\n",
    "\n",
    "Print out the values in age column. You will notice that some of the values are less than 18 or greater than 90. These values are obviously incorrect and you should remove them from your dataset, as they are probably invalid.\n",
    "\n",
    "\n",
    "\n",
    "### <font color=\"magenta\">Q2: Filter the data to include only those rows from respondents aged 18 to 90.</font>\n"
   ]
  },
  {
   "cell_type": "code",
   "execution_count": 15,
   "metadata": {},
   "outputs": [
    {
     "name": "stdout",
     "output_type": "stream",
     "text": [
      "18 72\n"
     ]
    }
   ],
   "source": [
    "df=df[np.logical_and(df['Age']>=18,df['Age']<=90)]\n",
    "print(min(df['Age'].values),max(df['Age'].values))\n"
   ]
  },
  {
   "cell_type": "markdown",
   "metadata": {},
   "source": [
    "### Step 2.2 Clean the Gender column\n",
    "\n",
    "Next you will take a look at the gender column. This, very evidently, requires a lot of cleanup. Note that there are [guidelines](https://drive.google.com/open?id=1rgtwUwvdQpl-RpBsNVkdcBPT1pDmNXdH) published by the [Spectrum Center](https://spectrumcenter.umich.edu/) about how to ask questions about gender on surveys, but this survey was created elsewhere.  On the positive side, the survey used a free text field for people to enter their gender, which we need to figure out how to deal with. \n",
    "\n",
    "You should recode responses which appear that the respondent wanted to say Male such as Female / f / woman etc. to 'Female'; similarly you will recode Male / male / M / man etc. as 'Male', and all other responses such as non-binary, queer etc. to 'Gender non-binary'.  As in previous assignments it is up to you to decide which responses go into which category.  You should include an explanation and justification for your decisions.\n",
    "\n",
    "First get all the <b>unique</b> (Hint: unique()) responses in the Gender column of the dataset. Next, <b>create a new column called Gender_recoded</b> with the values 'Male', 'Female' or 'Gender non-binary' mapped according to your decisions as specified in the previous paragraph.\n",
    "\n",
    "### <font color=\"magenta\">Q3: Write code to list the unique values in the 'Gender' column"
   ]
  },
  {
   "cell_type": "code",
   "execution_count": 16,
   "metadata": {},
   "outputs": [
    {
     "name": "stdout",
     "output_type": "stream",
     "text": [
      "['Female' 'M' 'Male' 'male' 'female' 'm' 'Male-ish' 'maile' 'Trans-female'\n",
      " 'Cis Female' 'F' 'something kinda male?' 'Cis Male' 'Woman' 'f' 'Mal'\n",
      " 'Male (CIS)' 'queer/she/they' 'non-binary' 'Femake' 'woman' 'Make' 'Nah'\n",
      " 'Enby' 'fluid' 'Genderqueer' 'Female ' 'Androgyne' 'Agender'\n",
      " 'cis-female/femme' 'Guy (-ish) ^_^' 'male leaning androgynous' 'Male '\n",
      " 'Man' 'Trans woman' 'msle' 'Neuter' 'Female (trans)' 'queer'\n",
      " 'Female (cis)' 'Mail' 'cis male' 'Malr' 'femail' 'Cis Man'\n",
      " 'ostensibly male, unsure what that really means']\n"
     ]
    }
   ],
   "source": [
    "print(pd.unique(df['Gender']))\n",
    "gender_map={\n",
    "    'Female':'Female',\n",
    "    'M':'Male',\n",
    "    'Male':'Male',\n",
    "    'male':'Male',\n",
    "    'female':'Female',\n",
    "    'm':'Male',\n",
    "    'maile':'Male',\n",
    "    'Cis Female':'Female',\n",
    "    'F':'Female',\n",
    "    'Cis Male':'Male',\n",
    "    'Woman':'Female',\n",
    "    'f':'Female',\n",
    "    'Mal':'Male',\n",
    "    'Male (CIS)':'Male',\n",
    "    'Femake':'Female',\n",
    "    'woman':'Female',\n",
    "    'Make':'Male',\n",
    "    'Female ':'Female',\n",
    "    'cis-female/femme':'Female',\n",
    "    'Male ':'Male',\n",
    "    'Man':'Male',\n",
    "    'Female (cis)':'Female',\n",
    "    'Mail':'Male',\n",
    "    'cis male':'Male',\n",
    "    'Malr':'Male',\n",
    "    'femail':'Female',\n",
    "    'Cis Man':'Male'\n",
    "}\n",
    "def gend(instr):\n",
    "    if instr not in gender_map.keys():\n",
    "        return 'Gender non-binary'\n",
    "    else: \n",
    "        return gender_map[instr]\n"
   ]
  },
  {
   "cell_type": "markdown",
   "metadata": {},
   "source": [
    "### <font color=\"magenta\">Q4: Write code to create a new column called 'Gender_recoded' that maps the 'Gender' responses into one of three categories: 'Female', 'Male' or 'Gender non-binary'</font>"
   ]
  },
  {
   "cell_type": "code",
   "execution_count": 17,
   "metadata": {},
   "outputs": [
    {
     "data": {
      "text/plain": [
       "0    Female\n",
       "1      Male\n",
       "2      Male\n",
       "3      Male\n",
       "4      Male\n",
       "Name: Gender_recoded, dtype: object"
      ]
     },
     "execution_count": 17,
     "metadata": {},
     "output_type": "execute_result"
    }
   ],
   "source": [
    "df['Gender_recoded']=df['Gender'].apply(gend)\n",
    "df.head()['Gender_recoded']"
   ]
  },
  {
   "cell_type": "markdown",
   "metadata": {},
   "source": [
    "## Step 3: Data manipulation to answer questions about the data\n",
    "Use the lab and lecture notes, as well as the readings, to help you determine how to answer the following questions.  Please format your output so it is readable by a non-technical audience (i.e. don't just dump the dataframe... use print and format to provide context and sentences."
   ]
  },
  {
   "cell_type": "markdown",
   "metadata": {},
   "source": [
    "###  <font color=\"magenta\"> Q5: How many different countries are represented in the survey responses?  \n"
   ]
  },
  {
   "cell_type": "code",
   "execution_count": 18,
   "metadata": {},
   "outputs": [
    {
     "name": "stdout",
     "output_type": "stream",
     "text": [
      "46\n"
     ]
    }
   ],
   "source": [
    "print(len(pd.unique(df['Country'])))"
   ]
  },
  {
   "cell_type": "markdown",
   "metadata": {},
   "source": [
    "###  <font color=\"magenta\">Q6: What are they in order from most to least respondents?  Include the country name and number of responses in your output\n"
   ]
  },
  {
   "cell_type": "code",
   "execution_count": 19,
   "metadata": {},
   "outputs": [
    {
     "name": "stdout",
     "output_type": "stream",
     "text": [
      "United States   746 \n",
      "\n",
      "United Kingdom   184 \n",
      "\n",
      "Canada   72 \n",
      "\n",
      "Germany   45 \n",
      "\n",
      "Netherlands   27 \n",
      "\n",
      "Ireland   27 \n",
      "\n",
      "Australia   21 \n",
      "\n",
      "France   13 \n",
      "\n",
      "India   10 \n",
      "\n",
      "New Zealand   8 \n",
      "\n",
      "Switzerland   7 \n",
      "\n",
      "Poland   7 \n",
      "\n",
      "Italy   7 \n",
      "\n",
      "Sweden   7 \n",
      "\n",
      "Brazil   6 \n",
      "\n"
     ]
    }
   ],
   "source": [
    "from collections import defaultdict\n",
    "country_count=defaultdict(int)\n",
    "for i in df['Country'].values:\n",
    "    country_count[i]+=1\n",
    "for i in sorted(country_count.items(),key= lambda x:x[1],reverse=True)[:15]:\n",
    "    #printing only 15 to save space\n",
    "    print(i[0],\" \",i[1],\"\\n\")"
   ]
  },
  {
   "cell_type": "markdown",
   "metadata": {},
   "source": [
    "\n",
    "###  <font color=\"magenta\">Q7: List the countries that had only one response."
   ]
  },
  {
   "cell_type": "code",
   "execution_count": 20,
   "metadata": {},
   "outputs": [
    {
     "name": "stdout",
     "output_type": "stream",
     "text": [
      "Slovenia   1 \n",
      "\n",
      "Costa Rica   1 \n",
      "\n",
      "Latvia   1 \n",
      "\n",
      "Romania   1 \n",
      "\n",
      "Spain   1 \n",
      "\n",
      "Uruguay   1 \n",
      "\n",
      "Bosnia and Herzegovina   1 \n",
      "\n",
      "Hungary   1 \n",
      "\n",
      "Japan   1 \n",
      "\n",
      "Nigeria   1 \n",
      "\n",
      "Norway   1 \n",
      "\n",
      "Thailand   1 \n",
      "\n",
      "Moldova   1 \n",
      "\n",
      "Georgia   1 \n",
      "\n",
      "China   1 \n",
      "\n",
      "Czech Republic   1 \n",
      "\n",
      "Philippines   1 \n",
      "\n"
     ]
    }
   ],
   "source": [
    "for i in sorted(country_count.items(),key= lambda x:x[1],reverse=True):\n",
    "    if i[1] == 1:print(i[0],\" \",i[1],\"\\n\") "
   ]
  },
  {
   "cell_type": "markdown",
   "metadata": {},
   "source": [
    "###  <font color=\"magenta\">Q8a: Find the percentage of respondents who work for companies that provide mental health insurance who reported that they have received mental health treatment. \n"
   ]
  },
  {
   "cell_type": "code",
   "execution_count": 21,
   "metadata": {},
   "outputs": [
    {
     "name": "stdout",
     "output_type": "stream",
     "text": [
      "63.85 %\n"
     ]
    }
   ],
   "source": [
    "receivedbenefit=df[df['benefits']=='Yes']\n",
    "print(round((len(receivedbenefit[receivedbenefit['treatment']=='Yes'])/len(receivedbenefit))*100,2),'%')"
   ]
  },
  {
   "cell_type": "markdown",
   "metadata": {},
   "source": [
    "###  <font color=\"magenta\">Q8b: How does that compare to the percentage of respondents who work for companies that do not provide mental health insurance who reported that they have received mental health treatment?"
   ]
  },
  {
   "cell_type": "code",
   "execution_count": 22,
   "metadata": {},
   "outputs": [
    {
     "name": "stdout",
     "output_type": "stream",
     "text": [
      "48.25 %\n"
     ]
    }
   ],
   "source": [
    "notreceivedbenefit=df[df['benefits']=='No']\n",
    "print(round((len(notreceivedbenefit[notreceivedbenefit['treatment']=='Yes'])/len(notreceivedbenefit))*100,2),'%')"
   ]
  },
  {
   "cell_type": "markdown",
   "metadata": {},
   "source": [
    "## Notes about going \"Above and Beyond\"\n",
    "\n",
    "Here are some sample questions, copied from [one of the kernels created to analyse this dataset](https://www.kaggle.com/jchen2186/data-visualization-with-python-seaborn),  to help you think about going above and beyond.  **Note that answering *these* questions will not earn you full Above and Beyond points**.  The idea is that *you* come up with questions as a result of thinking carefully about the data.  So you should use these question to inspire you to come up with your own.\n",
    "\n",
    "1. Is there a correlation between the company's support for helping those with mental health conditions and workers' willingness to reach out for help?\n",
    "1. Do self-employed workers have more or less trouble with reaching out for help?\n",
    "1. Are workers more likely to reach out for help if they work at a company that has fewer or more employees?\n",
    "1. Are workers who do have a family history of mental health conditions more likely to reach out for help than those who don't?\n",
    "1. Do a lot of companies provide help to people with mental health conditions?\n",
    "1. Are smaller or larger companies more likely to provide people with mental health conditions?\n",
    "1. Given a person's knowledge of his/her own mental health, what kind of company should he/she work at to be comfortable when asking for help?\n",
    "\n",
    "**IF YOU CHOOSE TO GO ABOVE AND BEYOND, YOU _MUST_ CHANGE THE FOLLOWING MARKDOWN BLOCK**"
   ]
  },
  {
   "cell_type": "markdown",
   "metadata": {},
   "source": [
    "## Above and Beyond\n",
    "\n",
    "Indicate here why you believe that your work should be considered \"above and beyond\"."
   ]
  },
  {
   "cell_type": "markdown",
   "metadata": {},
   "source": [
    "Some questions I try to answer:es has the higest\n",
    "1. Which countries has the highest % of respondent who are receiving benefit?\n",
    "2. Which countri % of workers who sought treatments?\n",
    "3. Does self-employed group has a lower % of workers who sought treatments?\n",
    "4. Does work from home group has a lower % of workers who sought treatments?"
   ]
  },
  {
   "cell_type": "markdown",
   "metadata": {},
   "source": [
    "### 1. Which countries has the highest % of respondent who are receiving benefit?"
   ]
  },
  {
   "cell_type": "code",
   "execution_count": 23,
   "metadata": {},
   "outputs": [
    {
     "name": "stdout",
     "output_type": "stream",
     "text": [
      "Norway   100.0 % \n",
      "\n",
      "United States   52.95 % \n",
      "\n",
      "Croatia   50.0 % \n",
      "\n",
      "Canada   40.28 % \n",
      "\n",
      "Russia   33.33 % \n",
      "\n",
      "Austria   33.33 % \n",
      "\n",
      "Belgium   33.33 % \n",
      "\n",
      "Sweden   28.57 % \n",
      "\n",
      "Switzerland   28.57 % \n",
      "\n",
      "Australia   19.05 % \n",
      "\n"
     ]
    }
   ],
   "source": [
    "country_benefit_count=defaultdict(int)\n",
    "for i in df[df['benefits']=='Yes']['Country'].values:\n",
    "    country_benefit_count[i]+=1\n",
    "    \n",
    "country_benefit_percent=defaultdict(float)\n",
    "\n",
    "for i in country_benefit_count.keys():\n",
    "    country_benefit_percent[i]=round(country_benefit_count[i]*100/country_count[i],2)\n",
    "    \n",
    "for i in sorted(country_benefit_percent.items(),key= lambda x:x[1],reverse=True)[:10]:\n",
    "    print(i[0],\" \",i[1],\"%\",\"\\n\")"
   ]
  },
  {
   "cell_type": "markdown",
   "metadata": {},
   "source": [
    "Based on this survey, the employers around world are not doing a good job at providing health benefit to the employees"
   ]
  },
  {
   "cell_type": "markdown",
   "metadata": {},
   "source": [
    "### 2. Which country has the highest % of workers who sought treatments?"
   ]
  },
  {
   "cell_type": "code",
   "execution_count": 24,
   "metadata": {},
   "outputs": [
    {
     "name": "stdout",
     "output_type": "stream",
     "text": [
      "Slovenia   100.0 % \n",
      "\n",
      "Japan   100.0 % \n",
      "\n",
      "Croatia   100.0 % \n",
      "\n",
      "Denmark   100.0 % \n",
      "\n",
      "Moldova   100.0 % \n",
      "\n",
      "South Africa   66.67 % \n",
      "\n",
      "New Zealand   62.5 % \n",
      "\n",
      "Australia   61.9 % \n",
      "\n",
      "Poland   57.14 % \n",
      "\n",
      "United States   54.69 % \n",
      "\n"
     ]
    }
   ],
   "source": [
    "country_treatment_count=defaultdict(int)\n",
    "for i in df[df['treatment']=='Yes']['Country'].values:\n",
    "    country_treatment_count[i]+=1\n",
    "    \n",
    "country_treatment_percent=defaultdict(float)\n",
    "\n",
    "for i in country_treatment_count.keys():\n",
    "    country_treatment_percent[i]=round(country_treatment_count[i]*100/country_count[i],2)\n",
    "    \n",
    "for i in sorted(country_treatment_percent.items(),key= lambda x:x[1],reverse=True)[:10]:\n",
    "    print(i[0],\" \",i[1],\"%\",\"\\n\")"
   ]
  },
  {
   "cell_type": "markdown",
   "metadata": {},
   "source": [
    "Countries such like Slovenia, Japan, and Croatia have a 100% of workers who sought treatments. However, these countries only have 1 respondent. Thus US is the country that has the highest % after considering the sample size."
   ]
  },
  {
   "cell_type": "markdown",
   "metadata": {},
   "source": [
    "### 3. Does self-employed group has a lower % of workers who sought treatments?"
   ]
  },
  {
   "cell_type": "code",
   "execution_count": 25,
   "metadata": {},
   "outputs": [
    {
     "name": "stdout",
     "output_type": "stream",
     "text": [
      "% of self-employed who sought for treatment:  52.82 % \n",
      " % of non-self-employed who sought for treatment:  50.23 % \n",
      "\n"
     ]
    }
   ],
   "source": [
    "selfemployed=df[df['self_employed']=='Yes']\n",
    "notselfemployed=df[df['self_employed']=='No']\n",
    "selfemployedpercentage=round((len(selfemployed[selfemployed['treatment']=='Yes'])/len(selfemployed))*100,2)\n",
    "notselfemployedpercentage=round((len(notselfemployed[notselfemployed['treatment']=='Yes'])/len(notselfemployed))*100,2)\n",
    "print('% of self-employed who sought for treatment: ',selfemployedpercentage,'% \\n','% of non-self-employed who sought for treatment: ',notselfemployedpercentage,'% \\n')"
   ]
  },
  {
   "cell_type": "markdown",
   "metadata": {},
   "source": [
    "It seems that self-employed workers have a higher % of seeking treament"
   ]
  },
  {
   "cell_type": "markdown",
   "metadata": {},
   "source": [
    "### 4. Does work from home group has a lower % of workers who sought treatments?"
   ]
  },
  {
   "cell_type": "code",
   "execution_count": 26,
   "metadata": {},
   "outputs": [
    {
     "name": "stdout",
     "output_type": "stream",
     "text": [
      "% of working from home who sought for treatment:  52.56 % \n",
      " % of non working from home who sought for treatment:  49.66 % \n",
      "\n"
     ]
    }
   ],
   "source": [
    "workfromhome=df[df['remote_work']=='Yes']\n",
    "nonworkfromhome=df[df['remote_work']=='No']\n",
    "workfromhomepercentage=round((len(workfromhome[workfromhome['treatment']=='Yes'])/len(workfromhome))*100,2)\n",
    "nonworkfromhomepercentage=round((len(nonworkfromhome[nonworkfromhome['treatment']=='Yes'])/len(nonworkfromhome))*100,2)\n",
    "print('% of working from home who sought for treatment: ',workfromhomepercentage,'% \\n','% of non working from home who sought for treatment: ',nonworkfromhomepercentage,'% \\n')"
   ]
  },
  {
   "cell_type": "markdown",
   "metadata": {},
   "source": [
    "People who work from home/ having remote works are more likely to seek treatment"
   ]
  }
 ],
 "metadata": {
  "kernelspec": {
   "display_name": "Python 3",
   "language": "python",
   "name": "python3"
  },
  "language_info": {
   "codemirror_mode": {
    "name": "ipython",
    "version": 3
   },
   "file_extension": ".py",
   "mimetype": "text/x-python",
   "name": "python",
   "nbconvert_exporter": "python",
   "pygments_lexer": "ipython3",
   "version": "3.6.3"
  }
 },
 "nbformat": 4,
 "nbformat_minor": 2
}
